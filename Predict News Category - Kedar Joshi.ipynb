{
 "cells": [
  {
   "cell_type": "markdown",
   "metadata": {},
   "source": [
    "From the beginning, since the first printed newspaper, every news that makes into a page has had a specific section allotted to it. Although pretty much everything changed in newspapers from the ink to the type of paper used, this proper categorization of news was carried over by generations and even to the digital versions of the newspaper. Newspaper articles are not limited to a few topics or subjects, it covers a wide range of interests from politics to sports to movies and so on. For long, this process of sectioning was done manually by people but now technology can do it without much effort. In this hackathon, Data Science and Machine Learning enthusiasts like you will use Natural Language Processing to predict which genre or category a piece of news will fall in to from the story.\n",
    "\n",
    "# FEATURES:\n",
    "\n",
    "## STORY:  A part of the main content of the article to be published as a piece of news.\n",
    "## SECTION: The genre/category the STORY falls in.\n",
    "\n",
    "There are four distinct sections where each story may fall in to. The Sections are labelled as follows :\n",
    "\n",
    "* Politics: 0\n",
    "* Technology: 1\n",
    "* Entertainment: 2\n",
    "* Business: 3"
   ]
  },
  {
   "cell_type": "markdown",
   "metadata": {},
   "source": [
    "# Importing  Libraries"
   ]
  },
  {
   "cell_type": "code",
   "execution_count": 1,
   "metadata": {},
   "outputs": [],
   "source": [
    "import numpy as np\n",
    "import pandas as pd\n",
    "import matplotlib.pyplot as plt\n",
    "import seaborn as sns\n",
    "import warnings\n",
    "warnings.simplefilter(action='ignore', category=FutureWarning)"
   ]
  },
  {
   "cell_type": "markdown",
   "metadata": {},
   "source": [
    "# Importing Data"
   ]
  },
  {
   "cell_type": "code",
   "execution_count": 2,
   "metadata": {},
   "outputs": [],
   "source": [
    "train_data = pd.read_csv(r\"C:\\Users\\Kedar Joshi\\Capstone_Projects\\Predict News Category\\TrainDataset.csv\")\n",
    "test_data = pd.read_csv(r\"C:\\Users\\Kedar Joshi\\Capstone_Projects\\Predict News Category\\TestDataset.csv\")"
   ]
  },
  {
   "cell_type": "code",
   "execution_count": 3,
   "metadata": {},
   "outputs": [
    {
     "data": {
      "text/html": [
       "<div>\n",
       "<style scoped>\n",
       "    .dataframe tbody tr th:only-of-type {\n",
       "        vertical-align: middle;\n",
       "    }\n",
       "\n",
       "    .dataframe tbody tr th {\n",
       "        vertical-align: top;\n",
       "    }\n",
       "\n",
       "    .dataframe thead th {\n",
       "        text-align: right;\n",
       "    }\n",
       "</style>\n",
       "<table border=\"1\" class=\"dataframe\">\n",
       "  <thead>\n",
       "    <tr style=\"text-align: right;\">\n",
       "      <th></th>\n",
       "      <th>STORY</th>\n",
       "      <th>SECTION</th>\n",
       "    </tr>\n",
       "  </thead>\n",
       "  <tbody>\n",
       "    <tr>\n",
       "      <th>0</th>\n",
       "      <td>The roadshow and the filing of nomination pape...</td>\n",
       "      <td>0</td>\n",
       "    </tr>\n",
       "    <tr>\n",
       "      <th>1</th>\n",
       "      <td>These vulnerabilities could have allowed hacke...</td>\n",
       "      <td>1</td>\n",
       "    </tr>\n",
       "    <tr>\n",
       "      <th>2</th>\n",
       "      <td>\"People will now be able to include music in t...</td>\n",
       "      <td>1</td>\n",
       "    </tr>\n",
       "    <tr>\n",
       "      <th>3</th>\n",
       "      <td>Jersey is expected to have a good start at the...</td>\n",
       "      <td>2</td>\n",
       "    </tr>\n",
       "    <tr>\n",
       "      <th>4</th>\n",
       "      <td>Xiaomi’s unveiling also hints at how Samsung i...</td>\n",
       "      <td>1</td>\n",
       "    </tr>\n",
       "  </tbody>\n",
       "</table>\n",
       "</div>"
      ],
      "text/plain": [
       "                                               STORY  SECTION\n",
       "0  The roadshow and the filing of nomination pape...        0\n",
       "1  These vulnerabilities could have allowed hacke...        1\n",
       "2  \"People will now be able to include music in t...        1\n",
       "3  Jersey is expected to have a good start at the...        2\n",
       "4  Xiaomi’s unveiling also hints at how Samsung i...        1"
      ]
     },
     "execution_count": 3,
     "metadata": {},
     "output_type": "execute_result"
    }
   ],
   "source": [
    "train_data.head()"
   ]
  },
  {
   "cell_type": "code",
   "execution_count": 4,
   "metadata": {},
   "outputs": [
    {
     "data": {
      "text/html": [
       "<div>\n",
       "<style scoped>\n",
       "    .dataframe tbody tr th:only-of-type {\n",
       "        vertical-align: middle;\n",
       "    }\n",
       "\n",
       "    .dataframe tbody tr th {\n",
       "        vertical-align: top;\n",
       "    }\n",
       "\n",
       "    .dataframe thead th {\n",
       "        text-align: right;\n",
       "    }\n",
       "</style>\n",
       "<table border=\"1\" class=\"dataframe\">\n",
       "  <thead>\n",
       "    <tr style=\"text-align: right;\">\n",
       "      <th></th>\n",
       "      <th>STORY</th>\n",
       "    </tr>\n",
       "  </thead>\n",
       "  <tbody>\n",
       "    <tr>\n",
       "      <th>0</th>\n",
       "      <td>Privileged to have done this candid and COMPLE...</td>\n",
       "    </tr>\n",
       "    <tr>\n",
       "      <th>1</th>\n",
       "      <td>6) Some analysts expect volatility to remain h...</td>\n",
       "    </tr>\n",
       "    <tr>\n",
       "      <th>2</th>\n",
       "      <td>There is no stopping Marvel Cinematic Universe...</td>\n",
       "    </tr>\n",
       "    <tr>\n",
       "      <th>3</th>\n",
       "      <td>According to Ravi Menon, analyst at Elara Secu...</td>\n",
       "    </tr>\n",
       "    <tr>\n",
       "      <th>4</th>\n",
       "      <td>A complaint against Nadiadwala, known for prod...</td>\n",
       "    </tr>\n",
       "  </tbody>\n",
       "</table>\n",
       "</div>"
      ],
      "text/plain": [
       "                                               STORY\n",
       "0  Privileged to have done this candid and COMPLE...\n",
       "1  6) Some analysts expect volatility to remain h...\n",
       "2  There is no stopping Marvel Cinematic Universe...\n",
       "3  According to Ravi Menon, analyst at Elara Secu...\n",
       "4  A complaint against Nadiadwala, known for prod..."
      ]
     },
     "execution_count": 4,
     "metadata": {},
     "output_type": "execute_result"
    }
   ],
   "source": [
    "test_data.head()"
   ]
  },
  {
   "cell_type": "markdown",
   "metadata": {},
   "source": [
    "# Exploratory Data Analysis"
   ]
  },
  {
   "cell_type": "code",
   "execution_count": 5,
   "metadata": {},
   "outputs": [
    {
     "data": {
      "text/plain": [
       "Index(['STORY', 'SECTION'], dtype='object')"
      ]
     },
     "execution_count": 5,
     "metadata": {},
     "output_type": "execute_result"
    }
   ],
   "source": [
    "#Columns in the train data\n",
    "train_data.columns"
   ]
  },
  {
   "cell_type": "code",
   "execution_count": 6,
   "metadata": {},
   "outputs": [
    {
     "data": {
      "text/plain": [
       "Index(['STORY'], dtype='object')"
      ]
     },
     "execution_count": 6,
     "metadata": {},
     "output_type": "execute_result"
    }
   ],
   "source": [
    "#Columns in the test data\n",
    "test_data.columns"
   ]
  },
  {
   "cell_type": "code",
   "execution_count": 7,
   "metadata": {},
   "outputs": [
    {
     "data": {
      "text/plain": [
       "STORY      0\n",
       "SECTION    0\n",
       "dtype: int64"
      ]
     },
     "execution_count": 7,
     "metadata": {},
     "output_type": "execute_result"
    }
   ],
   "source": [
    "#finding Nulls in the train data\n",
    "train_data.isnull().sum()"
   ]
  },
  {
   "cell_type": "code",
   "execution_count": 8,
   "metadata": {},
   "outputs": [
    {
     "data": {
      "text/plain": [
       "STORY    0\n",
       "dtype: int64"
      ]
     },
     "execution_count": 8,
     "metadata": {},
     "output_type": "execute_result"
    }
   ],
   "source": [
    "#finding Nulls in the test data\n",
    "test_data.isnull().sum()"
   ]
  },
  {
   "cell_type": "code",
   "execution_count": 9,
   "metadata": {},
   "outputs": [
    {
     "name": "stdout",
     "output_type": "stream",
     "text": [
      "<class 'pandas.core.frame.DataFrame'>\n",
      "RangeIndex: 6102 entries, 0 to 6101\n",
      "Data columns (total 2 columns):\n",
      "STORY      6102 non-null object\n",
      "SECTION    6102 non-null int64\n",
      "dtypes: int64(1), object(1)\n",
      "memory usage: 95.4+ KB\n"
     ]
    }
   ],
   "source": [
    "#More information about the data\n",
    "train_data.info()"
   ]
  },
  {
   "cell_type": "code",
   "execution_count": 10,
   "metadata": {},
   "outputs": [
    {
     "data": {
      "text/html": [
       "<div>\n",
       "<style scoped>\n",
       "    .dataframe tbody tr th:only-of-type {\n",
       "        vertical-align: middle;\n",
       "    }\n",
       "\n",
       "    .dataframe tbody tr th {\n",
       "        vertical-align: top;\n",
       "    }\n",
       "\n",
       "    .dataframe thead th {\n",
       "        text-align: right;\n",
       "    }\n",
       "</style>\n",
       "<table border=\"1\" class=\"dataframe\">\n",
       "  <thead>\n",
       "    <tr style=\"text-align: right;\">\n",
       "      <th></th>\n",
       "      <th>SECTION</th>\n",
       "    </tr>\n",
       "  </thead>\n",
       "  <tbody>\n",
       "    <tr>\n",
       "      <th>count</th>\n",
       "      <td>6102.000000</td>\n",
       "    </tr>\n",
       "    <tr>\n",
       "      <th>mean</th>\n",
       "      <td>1.362012</td>\n",
       "    </tr>\n",
       "    <tr>\n",
       "      <th>std</th>\n",
       "      <td>1.001336</td>\n",
       "    </tr>\n",
       "    <tr>\n",
       "      <th>min</th>\n",
       "      <td>0.000000</td>\n",
       "    </tr>\n",
       "    <tr>\n",
       "      <th>25%</th>\n",
       "      <td>1.000000</td>\n",
       "    </tr>\n",
       "    <tr>\n",
       "      <th>50%</th>\n",
       "      <td>1.000000</td>\n",
       "    </tr>\n",
       "    <tr>\n",
       "      <th>75%</th>\n",
       "      <td>2.000000</td>\n",
       "    </tr>\n",
       "    <tr>\n",
       "      <th>max</th>\n",
       "      <td>3.000000</td>\n",
       "    </tr>\n",
       "  </tbody>\n",
       "</table>\n",
       "</div>"
      ],
      "text/plain": [
       "           SECTION\n",
       "count  6102.000000\n",
       "mean      1.362012\n",
       "std       1.001336\n",
       "min       0.000000\n",
       "25%       1.000000\n",
       "50%       1.000000\n",
       "75%       2.000000\n",
       "max       3.000000"
      ]
     },
     "execution_count": 10,
     "metadata": {},
     "output_type": "execute_result"
    }
   ],
   "source": [
    "#Describing the Dataset\n",
    "train_data.describe()"
   ]
  },
  {
   "cell_type": "code",
   "execution_count": 11,
   "metadata": {},
   "outputs": [
    {
     "data": {
      "text/html": [
       "<div>\n",
       "<style scoped>\n",
       "    .dataframe tbody tr th:only-of-type {\n",
       "        vertical-align: middle;\n",
       "    }\n",
       "\n",
       "    .dataframe tbody tr th {\n",
       "        vertical-align: top;\n",
       "    }\n",
       "\n",
       "    .dataframe thead tr th {\n",
       "        text-align: left;\n",
       "    }\n",
       "\n",
       "    .dataframe thead tr:last-of-type th {\n",
       "        text-align: right;\n",
       "    }\n",
       "</style>\n",
       "<table border=\"1\" class=\"dataframe\">\n",
       "  <thead>\n",
       "    <tr>\n",
       "      <th></th>\n",
       "      <th colspan=\"4\" halign=\"left\">STORY</th>\n",
       "    </tr>\n",
       "    <tr>\n",
       "      <th></th>\n",
       "      <th>count</th>\n",
       "      <th>unique</th>\n",
       "      <th>top</th>\n",
       "      <th>freq</th>\n",
       "    </tr>\n",
       "    <tr>\n",
       "      <th>SECTION</th>\n",
       "      <th></th>\n",
       "      <th></th>\n",
       "      <th></th>\n",
       "      <th></th>\n",
       "    </tr>\n",
       "  </thead>\n",
       "  <tbody>\n",
       "    <tr>\n",
       "      <th>0</th>\n",
       "      <td>1341</td>\n",
       "      <td>1333</td>\n",
       "      <td>This story has been published from a wire agen...</td>\n",
       "      <td>4</td>\n",
       "    </tr>\n",
       "    <tr>\n",
       "      <th>1</th>\n",
       "      <td>2224</td>\n",
       "      <td>2196</td>\n",
       "      <td>This story has been published from a wire agen...</td>\n",
       "      <td>13</td>\n",
       "    </tr>\n",
       "    <tr>\n",
       "      <th>2</th>\n",
       "      <td>1524</td>\n",
       "      <td>1515</td>\n",
       "      <td>The consensus reads, “Exciting, entertaining, ...</td>\n",
       "      <td>3</td>\n",
       "    </tr>\n",
       "    <tr>\n",
       "      <th>3</th>\n",
       "      <td>1013</td>\n",
       "      <td>1004</td>\n",
       "      <td>This story has been published from a wire agen...</td>\n",
       "      <td>8</td>\n",
       "    </tr>\n",
       "  </tbody>\n",
       "</table>\n",
       "</div>"
      ],
      "text/plain": [
       "        STORY                                                               \n",
       "        count unique                                                top freq\n",
       "SECTION                                                                     \n",
       "0        1341   1333  This story has been published from a wire agen...    4\n",
       "1        2224   2196  This story has been published from a wire agen...   13\n",
       "2        1524   1515  The consensus reads, “Exciting, entertaining, ...    3\n",
       "3        1013   1004  This story has been published from a wire agen...    8"
      ]
     },
     "execution_count": 11,
     "metadata": {},
     "output_type": "execute_result"
    }
   ],
   "source": [
    "train_data.groupby(\"SECTION\").describe()"
   ]
  },
  {
   "cell_type": "markdown",
   "metadata": {},
   "source": [
    "# Data Visualization"
   ]
  },
  {
   "cell_type": "code",
   "execution_count": 12,
   "metadata": {},
   "outputs": [],
   "source": [
    "import warnings\n",
    "warnings.filterwarnings(\"ignore\")"
   ]
  },
  {
   "cell_type": "code",
   "execution_count": 13,
   "metadata": {},
   "outputs": [
    {
     "data": {
      "image/png": "[encoded data removed]",
      "text/plain": [
       "<Figure size 432x288 with 1 Axes>"
      ]
     },
     "metadata": {},
     "output_type": "display_data"
    }
   ],
   "source": [
    "sns.countplot(x = 'SECTION', data = train_data)\n",
    "plt.show()"
   ]
  },
  {
   "cell_type": "code",
   "execution_count": 14,
   "metadata": {},
   "outputs": [
    {
     "data": {
      "image/png": "[encoded data removed]",
      "text/plain": [
       "<Figure size 576x576 with 1 Axes>"
      ]
     },
     "metadata": {},
     "output_type": "display_data"
    }
   ],
   "source": [
    "train_data.SECTION.value_counts().plot(kind='pie', figsize=(8, 8), fontsize=15, autopct='%1.1f%%')\n",
    "plt.show()"
   ]
  },
  {
   "cell_type": "markdown",
   "metadata": {},
   "source": [
    "### We can see that news on Technologies are more compared to other 3 categories"
   ]
  },
  {
   "cell_type": "markdown",
   "metadata": {},
   "source": [
    "# Data Preprocessing"
   ]
  },
  {
   "cell_type": "code",
   "execution_count": 15,
   "metadata": {},
   "outputs": [],
   "source": [
    "import nltk\n",
    "from nltk.corpus import stopwords\n",
    "import string"
   ]
  },
  {
   "cell_type": "code",
   "execution_count": 16,
   "metadata": {},
   "outputs": [
    {
     "name": "stdout",
     "output_type": "stream",
     "text": [
      "[nltk_data] Downloading package stopwords to C:\\Users\\Kedar\n",
      "[nltk_data]     Joshi\\AppData\\Roaming\\nltk_data...\n",
      "[nltk_data]   Package stopwords is already up-to-date!\n",
      "[nltk_data] Downloading package wordnet to C:\\Users\\Kedar\n",
      "[nltk_data]     Joshi\\AppData\\Roaming\\nltk_data...\n",
      "[nltk_data]   Package wordnet is already up-to-date!\n"
     ]
    },
    {
     "data": {
      "text/plain": [
       "True"
      ]
     },
     "execution_count": 16,
     "metadata": {},
     "output_type": "execute_result"
    }
   ],
   "source": [
    "nltk.download('stopwords')\n",
    "nltk.download('wordnet')"
   ]
  },
  {
   "cell_type": "code",
   "execution_count": 17,
   "metadata": {},
   "outputs": [],
   "source": [
    "# remove duplicates\n",
    "\n",
    "train_data.drop_duplicates(inplace = True)"
   ]
  },
  {
   "cell_type": "code",
   "execution_count": 18,
   "metadata": {},
   "outputs": [],
   "source": [
    "all_punctuations = string.punctuation + '‘’,:”][],' "
   ]
  },
  {
   "cell_type": "code",
   "execution_count": 19,
   "metadata": {},
   "outputs": [],
   "source": [
    "# Remove punctuation\n",
    "\n",
    "def punc_remover(raw_text):\n",
    "    no_punct = \"\".join([i for i in raw_text if i not in all_punctuations])\n",
    "    return no_punct"
   ]
  },
  {
   "cell_type": "code",
   "execution_count": 20,
   "metadata": {},
   "outputs": [],
   "source": [
    "# Remove stop words\n",
    "\n",
    "def stopword_remover(no_punc_text):\n",
    "    words = no_punc_text.split()\n",
    "    no_stp_words = \" \".join([i for i in words if i not in stopwords.words('english')])\n",
    "    return no_stp_words"
   ]
  },
  {
   "cell_type": "code",
   "execution_count": 21,
   "metadata": {},
   "outputs": [],
   "source": [
    "# lemmatize the words in the data\n",
    "\n",
    "lemmer = nltk.stem.WordNetLemmatizer()\n",
    "def lem(words):\n",
    "    return \" \".join([lemmer.lemmatize(word,'v') for word in words.split()])"
   ]
  },
  {
   "cell_type": "code",
   "execution_count": 22,
   "metadata": {},
   "outputs": [],
   "source": [
    "# perform a complete cleaning\n",
    "\n",
    "def text_cleaner(raw):\n",
    "    cleaned_text = stopword_remover(punc_remover(raw))\n",
    "    return lem(cleaned_text)"
   ]
  },
  {
   "cell_type": "code",
   "execution_count": 23,
   "metadata": {},
   "outputs": [
    {
     "data": {
      "text/plain": [
       "'Hi sample text test text cleaner method Removes special character stopwords And lemmatizes go go run run run'"
      ]
     },
     "execution_count": 23,
     "metadata": {},
     "output_type": "execute_result"
    }
   ],
   "source": [
    "# Testing \n",
    "\n",
    "text_cleaner(\"Hi!, this is a sample text to test the text cleaner method. Removes *@!#special characters%$^* and stopwords. And lemmatizes, go, going - run, ran, running\")"
   ]
  },
  {
   "cell_type": "code",
   "execution_count": 24,
   "metadata": {},
   "outputs": [],
   "source": [
    "# Apply the cleaner method to the entire train dataset\n",
    "\n",
    "train_data['CLEAN_STORY'] = train_data['STORY'].apply(text_cleaner)"
   ]
  },
  {
   "cell_type": "code",
   "execution_count": 25,
   "metadata": {},
   "outputs": [],
   "source": [
    "# Apply the cleaner method to the entire test dataset\n",
    "\n",
    "test_data['CLEAN_STORY'] = test_data['STORY'].apply(text_cleaner)"
   ]
  },
  {
   "cell_type": "code",
   "execution_count": 26,
   "metadata": {},
   "outputs": [
    {
     "name": "stdout",
     "output_type": "stream",
     "text": [
      "[['The roadshow and the filing of nomination papers are also an attempt to show the strength of the ruling BJP in the eastern UP region, as several ministers and allies of the party are in Varanasi for the filing of nomination, expected on Friday.\\n\\n\\nBJP won 17 of the 18 Lok Sabha seats in the region in 2014, losing only Azamgarh to Samajwadi Party patriarch Mulayam Singh Yadav. It repeated the performance in the 2017 assembly polls, when it returned to power in Uttar Pradesh after a gap of 15 years.\\n\\n\\nBJP leaders said Modi visits Varanasi every few months and meets its residents. In the last five years, he had been to Varanasi at least 30 times, they said.\\n\\n\\nFinance minister Arun Jaitley tweeted that Modi’s roadshow that culminated with the customary Ganga aarti, “expresses only one indication\"—that the PM “is well on the way of repeating or even increasing the 2014 victory margin\".'\n",
      "  0\n",
      "  'The roadshow file nomination paper also attempt show strength rule BJP eastern UP region several minister ally party Varanasi file nomination expect Friday BJP 17 18 Lok Sabha seat region 2014 lose Azamgarh Samajwadi Party patriarch Mulayam Singh Yadav It repeat performance 2017 assembly poll return power Uttar Pradesh gap 15 years BJP leaders say Modi visit Varanasi every months meet residents In last five years Varanasi least 30 time say Finance minister Arun Jaitley tweet Modis roadshow culminate customary Ganga aarti “expresses one indication—that PM “is well way repeat even increase 2014 victory margin']\n",
      " ['These vulnerabilities could have allowed hackers to access sensitive information and take control over a number of smart home devices on the platform like door locks, security cameras and thermostats\\n\\n\\nNEW DELHI: In September 2016, a major part of the internet on the east coast of the US went on the blink following the biggest cyber attack in the history of the internet. Now we know that it was the Mirai malware that triggered this internet of things (IoT) botnet attack that took down big websites including Twitter, The Guardian, Netflix, Reddit, and CNN. Two years later in July, Cisco Talos found several vulnerabilities in the firmware of Samsung’s SmartThings Hub platform for its IOT devices.\\n\\n\\nThese vulnerabilities could have allowed hackers to access sensitive information and take control over a number of smart home devices on the platform like door locks, security cameras and thermostats. These devices can be found on Shodan, a search engine for IoT devices and then using Nmap scan hackers can identify the ones with open ports whose IP address is visible online.'\n",
      "  1\n",
      "  'These vulnerabilities could allow hackers access sensitive information take control number smart home devices platform like door lock security cameras thermostat NEW DELHI In September 2016 major part internet east coast US go blink follow biggest cyber attack history internet Now know Mirai malware trigger internet things IoT botnet attack take big websites include Twitter The Guardian Netflix Reddit CNN Two years later July Cisco Talos find several vulnerabilities firmware Samsungs SmartThings Hub platform IOT devices These vulnerabilities could allow hackers access sensitive information take control number smart home devices platform like door lock security cameras thermostat These devices find Shodan search engine IoT devices use Nmap scan hackers identify ones open port whose IP address visible online']\n",
      " ['\"People will now be able to include music in their videos on Facebook and Instagram, opening up more options for more ways to express and sharing memories with friends and family,\" said Manish Chopra, Director and Head of Partnerships, Facebook India.\\n\\n\\n\"We\\'re introducing a new feature: from a song on your profile, we\\'re making it possible to tap through to Spotify so people can listen to the full song and discover more from that artist. \"We\\'ll be adding other partners in the near future as well,\" the company said in a blog post.'\n",
      "  1\n",
      "  'People able include music videos Facebook Instagram open options ways express share memories friends family say Manish Chopra Director Head Partnerships Facebook India Were introduce new feature song profile make possible tap Spotify people listen full song discover artist Well add partner near future well company say blog post']\n",
      " ...\n",
      " ['Shanthnu made the announcement on Twitter and shared a few pictures of himself with the team and his father, veteran actor-director K Bhagyaraj'\n",
      "  2\n",
      "  'Shanthnu make announcement Twitter share picture team father veteran actordirector K Bhagyaraj']\n",
      " ['The Rock and Jason Statham reprise their roles from the Fast and Furious franchise and Idris Elba plays the self-defined ‘bad guy’\\n\\n\\nWatch the trailer of Fast & Furious Presents Hobbs & Shaw here:The first trailer of the film introduced us to the key characters'\n",
      "  2\n",
      "  'The Rock Jason Statham reprise roles Fast Furious franchise Idris Elba play selfdefined bad guy Watch trailer Fast Furious Presents Hobbs Shaw hereThe first trailer film introduce us key character']\n",
      " ['But unlike past developments that never caught on, such as 3D TVs, analysts believe 8K will become more popular eventually — just not ubiquitous.\\n\\n\\nSamsung announced its first 8K TV last year, an 85-inch model costing nearly $15,000. The company unveiled four additional sizes Monday, though prices weren’t provided. Also Monday, TCL announced plans for 8K sets with Roku’s streaming technology built-in. LG has two 8K sets coming.\\n\\n\\nMany people at CES would rather hear about better video games. Nvidia CEO Jensen Huang got a big round of applause when he told a crowd that he’d spend more time talking gaming than autonomous driving.\\n\\n\\nThe Santa Clara, California-based chipmaker’s computer graphics technology is used in both industries. But it was his unveiling of a new gaming-oriented graphics processor that elicited the biggest cheers Sunday night. Huang also detailed how his company’s advances in artificial intelligence and a graphics technology called “ray tracing\" are helping to generate ever-more-realistic scenery in popular games.\\n\\n\\nThis year’s CES is less focused on autonomous cars compared with last year, though there’s ongoing buzz about self-driving innovations. Ride-hailing service Lyft says that after launching a self-driving Las Vegas taxi service at last year’s CES, it’s now had almost 30,000 paid rides. Daimler on Monday unveiled a new self-driving truck and Bosch and May Mobility separately unveiled their concepts for a driverless shuttle bus.'\n",
      "  1\n",
      "  'But unlike past developments never catch 3D TVs analysts believe 8K become popular eventually — ubiquitous Samsung announce first 8K TV last year 85inch model cost nearly 15000 The company unveil four additional size Monday though price werent provide Also Monday TCL announce plan 8K set Rokus stream technology builtin LG two 8K set come Many people CES would rather hear better video game Nvidia CEO Jensen Huang get big round applause tell crowd hed spend time talk game autonomous drive The Santa Clara Californiabased chipmakers computer graphics technology use industries But unveil new gamingoriented graphics processor elicit biggest cheer Sunday night Huang also detail company advance artificial intelligence graphics technology call “ray trace help generate evermorerealistic scenery popular game This years CES less focus autonomous cars compare last year though theres ongoing buzz selfdriving innovations Ridehailing service Lyft say launch selfdriving Las Vegas taxi service last years CES almost 30000 pay rid Daimler Monday unveil new selfdriving truck Bosch May Mobility separately unveil concepts driverless shuttle bus']]\n"
     ]
    }
   ],
   "source": [
    "print(train_data.values)"
   ]
  },
  {
   "cell_type": "code",
   "execution_count": 27,
   "metadata": {},
   "outputs": [
    {
     "name": "stdout",
     "output_type": "stream",
     "text": [
      "[['Privileged to have done this candid and COMPLETELY NON POLITICAL freewheeling conversation with our PM @narendramodi,” Kumar wrote on the microblogging site\\n\\n\\nModi replied to the tweet, saying, “Dear @akshaykumar, it was good talking to you about everything, except politics and elections :) I’m sure people would like watching our conversation'\n",
      "  'Privileged do candid COMPLETELY NON POLITICAL freewheel conversation PM narendramodi Kumar write microblogging site Modi reply tweet say “Dear akshaykumar good talk everything except politics elections Im sure people would like watch conversation']\n",
      " ['6) Some analysts expect volatility to remain high in the near term. Sahaj Agrawal, head of research for derivatives at Kotak Securities, said: \"After a strong rally seen in the recent past, Nifty currently is in a consolidation phase. Tech parameters suggest possibility of extended consolidation before the upmove resumes. We continue to believe the bias remains positive.\"\\n\\n\\n7) On the downside, Nifty has strong support at 11,200-11300, said Sahaj Agrawal of Kotak Securities. \"On the higher side we would expect 12300-12500 on Nifty. Banking is expected to witness some profit-booking,\" he said.\\n\\n\\n8) Banking shares today saw some profit-taking after outperforming in the recent rally. The index for banking stocks, Nifty Bank, today ended 0.90% lower, with PNB, Yes Bank, ICICI Bank and SBI among top losers.'\n",
      "  '6 Some analysts expect volatility remain high near term Sahaj Agrawal head research derivatives Kotak Securities say After strong rally see recent past Nifty currently consolidation phase Tech parameters suggest possibility extend consolidation upmove resume We continue believe bias remain positive 7 On downside Nifty strong support 1120011300 say Sahaj Agrawal Kotak Securities On higher side would expect 1230012500 Nifty Banking expect witness profitbooking say 8 Banking share today saw profittaking outperform recent rally The index bank stock Nifty Bank today end 090 lower PNB Yes Bank ICICI Bank SBI among top losers']\n",
      " ['There is no stopping Marvel Cinematic Universe’s latest offering Avengers: Endgame, as far as box office figures are concerned\\n\\n\\n It was supposed to open somewhere between 260 million dollars and 300 million dollars in Canada and the US'\n",
      "  'There stop Marvel Cinematic Universes latest offer Avengers Endgame far box office figure concern It suppose open somewhere 260 million dollars 300 million dollars Canada US']\n",
      " ...\n",
      " ['LOS ANGELES: Walt Disney Co unveiled new details on Thursday about Disney+, a family-friendly digital video subscription that is set to debut later this year and compete with Netflix Inc.\\n\\n\\nThe ad-free service will include movies and TV series from Disney and will feature programming from the Marvel superhero universe, the \"Star Wars\" galaxy, \"Toy Story\" creator Pixar animation and the National Geographic channel.\\n\\n\\nWhen the service debuts on Nov. 12, some of the programming available from Disney\\'s libraries will include:'\n",
      "  'LOS ANGELES Walt Disney Co unveil new detail Thursday Disney familyfriendly digital video subscription set debut later year compete Netflix Inc The adfree service include movies TV series Disney feature program Marvel superhero universe Star Wars galaxy Toy Story creator Pixar animation National Geographic channel When service debut Nov 12 program available Disneys libraries include']\n",
      " ['A labourer fetches water at a fodder camp for cattle in Karjat village of Ahmednagar district. (Photo: Abhijit Bhatlekar/Mint)\\n\\n\\nOn 18 April, these victims of drought will vote, though they have little hope of a positive change irrespective of who wins the elections\\n\\n\\nIn Latur, which in 2016 became the first city in India to be supplied drinking water by a specially commissioned train, has been the epicentre of this drought'\n",
      "  'A labourer fetch water fodder camp cattle Karjat village Ahmednagar district Photo Abhijit BhatlekarMint On 18 April victims drought vote though little hope positive change irrespective win elections In Latur 2016 become first city India supply drink water specially commission train epicentre drought']\n",
      " ['Producer Dil Raju and director Mohana Krishna Indraganti on Monday announced the title of their upcoming movie\\n\\n\\n Interestingly, Sudheer and Aditi earlier shared screen space in Mohana Krishna Indraganti’s Sammohanam, while Nivetha Thomas made her Telugu screen debut with the director’s 2016 film Gentleman\\n\\n\\nAsking fans to “except the unexpected”, Sudheer posted on Twitter, “V are coming back and this time with an action thriller'\n",
      "  'Producer Dil Raju director Mohana Krishna Indraganti Monday announce title upcoming movie Interestingly Sudheer Aditi earlier share screen space Mohana Krishna Indragantis Sammohanam Nivetha Thomas make Telugu screen debut directors 2016 film Gentleman Asking fan “except unexpected Sudheer post Twitter “V come back time action thriller']]\n"
     ]
    }
   ],
   "source": [
    "print(test_data.values)"
   ]
  },
  {
   "cell_type": "code",
   "execution_count": 28,
   "metadata": {},
   "outputs": [
    {
     "data": {
      "text/html": [
       "<div>\n",
       "<style scoped>\n",
       "    .dataframe tbody tr th:only-of-type {\n",
       "        vertical-align: middle;\n",
       "    }\n",
       "\n",
       "    .dataframe tbody tr th {\n",
       "        vertical-align: top;\n",
       "    }\n",
       "\n",
       "    .dataframe thead th {\n",
       "        text-align: right;\n",
       "    }\n",
       "</style>\n",
       "<table border=\"1\" class=\"dataframe\">\n",
       "  <thead>\n",
       "    <tr style=\"text-align: right;\">\n",
       "      <th></th>\n",
       "      <th>STORY</th>\n",
       "      <th>SECTION</th>\n",
       "      <th>CLEAN_STORY</th>\n",
       "    </tr>\n",
       "  </thead>\n",
       "  <tbody>\n",
       "    <tr>\n",
       "      <th>0</th>\n",
       "      <td>The roadshow and the filing of nomination pape...</td>\n",
       "      <td>0</td>\n",
       "      <td>The roadshow file nomination paper also attemp...</td>\n",
       "    </tr>\n",
       "    <tr>\n",
       "      <th>1</th>\n",
       "      <td>These vulnerabilities could have allowed hacke...</td>\n",
       "      <td>1</td>\n",
       "      <td>These vulnerabilities could allow hackers acce...</td>\n",
       "    </tr>\n",
       "    <tr>\n",
       "      <th>2</th>\n",
       "      <td>\"People will now be able to include music in t...</td>\n",
       "      <td>1</td>\n",
       "      <td>People able include music videos Facebook Inst...</td>\n",
       "    </tr>\n",
       "    <tr>\n",
       "      <th>3</th>\n",
       "      <td>Jersey is expected to have a good start at the...</td>\n",
       "      <td>2</td>\n",
       "      <td>Jersey expect good start box office attention ...</td>\n",
       "    </tr>\n",
       "    <tr>\n",
       "      <th>4</th>\n",
       "      <td>Xiaomi’s unveiling also hints at how Samsung i...</td>\n",
       "      <td>1</td>\n",
       "      <td>Xiaomis unveil also hint Samsung start lose po...</td>\n",
       "    </tr>\n",
       "  </tbody>\n",
       "</table>\n",
       "</div>"
      ],
      "text/plain": [
       "                                               STORY  SECTION  \\\n",
       "0  The roadshow and the filing of nomination pape...        0   \n",
       "1  These vulnerabilities could have allowed hacke...        1   \n",
       "2  \"People will now be able to include music in t...        1   \n",
       "3  Jersey is expected to have a good start at the...        2   \n",
       "4  Xiaomi’s unveiling also hints at how Samsung i...        1   \n",
       "\n",
       "                                         CLEAN_STORY  \n",
       "0  The roadshow file nomination paper also attemp...  \n",
       "1  These vulnerabilities could allow hackers acce...  \n",
       "2  People able include music videos Facebook Inst...  \n",
       "3  Jersey expect good start box office attention ...  \n",
       "4  Xiaomis unveil also hint Samsung start lose po...  "
      ]
     },
     "execution_count": 28,
     "metadata": {},
     "output_type": "execute_result"
    }
   ],
   "source": [
    "train_data.head()"
   ]
  },
  {
   "cell_type": "code",
   "execution_count": 29,
   "metadata": {},
   "outputs": [
    {
     "data": {
      "text/html": [
       "<div>\n",
       "<style scoped>\n",
       "    .dataframe tbody tr th:only-of-type {\n",
       "        vertical-align: middle;\n",
       "    }\n",
       "\n",
       "    .dataframe tbody tr th {\n",
       "        vertical-align: top;\n",
       "    }\n",
       "\n",
       "    .dataframe thead th {\n",
       "        text-align: right;\n",
       "    }\n",
       "</style>\n",
       "<table border=\"1\" class=\"dataframe\">\n",
       "  <thead>\n",
       "    <tr style=\"text-align: right;\">\n",
       "      <th></th>\n",
       "      <th>STORY</th>\n",
       "      <th>CLEAN_STORY</th>\n",
       "    </tr>\n",
       "  </thead>\n",
       "  <tbody>\n",
       "    <tr>\n",
       "      <th>0</th>\n",
       "      <td>Privileged to have done this candid and COMPLE...</td>\n",
       "      <td>Privileged do candid COMPLETELY NON POLITICAL ...</td>\n",
       "    </tr>\n",
       "    <tr>\n",
       "      <th>1</th>\n",
       "      <td>6) Some analysts expect volatility to remain h...</td>\n",
       "      <td>6 Some analysts expect volatility remain high ...</td>\n",
       "    </tr>\n",
       "    <tr>\n",
       "      <th>2</th>\n",
       "      <td>There is no stopping Marvel Cinematic Universe...</td>\n",
       "      <td>There stop Marvel Cinematic Universes latest o...</td>\n",
       "    </tr>\n",
       "    <tr>\n",
       "      <th>3</th>\n",
       "      <td>According to Ravi Menon, analyst at Elara Secu...</td>\n",
       "      <td>According Ravi Menon analyst Elara Securities ...</td>\n",
       "    </tr>\n",
       "    <tr>\n",
       "      <th>4</th>\n",
       "      <td>A complaint against Nadiadwala, known for prod...</td>\n",
       "      <td>A complaint Nadiadwala know produce hit Hindi ...</td>\n",
       "    </tr>\n",
       "  </tbody>\n",
       "</table>\n",
       "</div>"
      ],
      "text/plain": [
       "                                               STORY  \\\n",
       "0  Privileged to have done this candid and COMPLE...   \n",
       "1  6) Some analysts expect volatility to remain h...   \n",
       "2  There is no stopping Marvel Cinematic Universe...   \n",
       "3  According to Ravi Menon, analyst at Elara Secu...   \n",
       "4  A complaint against Nadiadwala, known for prod...   \n",
       "\n",
       "                                         CLEAN_STORY  \n",
       "0  Privileged do candid COMPLETELY NON POLITICAL ...  \n",
       "1  6 Some analysts expect volatility remain high ...  \n",
       "2  There stop Marvel Cinematic Universes latest o...  \n",
       "3  According Ravi Menon analyst Elara Securities ...  \n",
       "4  A complaint Nadiadwala know produce hit Hindi ...  "
      ]
     },
     "execution_count": 29,
     "metadata": {},
     "output_type": "execute_result"
    }
   ],
   "source": [
    "test_data.head()"
   ]
  },
  {
   "cell_type": "markdown",
   "metadata": {},
   "source": [
    "## Count Vectors and TF-IDF Vectors"
   ]
  },
  {
   "cell_type": "code",
   "execution_count": 190,
   "metadata": {},
   "outputs": [],
   "source": [
    "from sklearn.feature_extraction.text import TfidfTransformer"
   ]
  },
  {
   "cell_type": "code",
   "execution_count": 191,
   "metadata": {},
   "outputs": [],
   "source": [
    "from sklearn.feature_extraction.text import CountVectorizer"
   ]
  },
  {
   "cell_type": "code",
   "execution_count": 192,
   "metadata": {},
   "outputs": [],
   "source": [
    "from sklearn.feature_extraction.text import TfidfVectorizer"
   ]
  },
  {
   "cell_type": "code",
   "execution_count": 193,
   "metadata": {},
   "outputs": [],
   "source": [
    "count_vectorizer = CountVectorizer()"
   ]
  },
  {
   "cell_type": "code",
   "execution_count": 194,
   "metadata": {},
   "outputs": [],
   "source": [
    "tfidf_trans = TfidfTransformer()"
   ]
  },
  {
   "cell_type": "code",
   "execution_count": 195,
   "metadata": {},
   "outputs": [],
   "source": [
    "vectorizer = TfidfVectorizer(sublinear_tf = True ,min_df = 5 ,norm = 'max',ngram_range = (1,2),stop_words = 'english')"
   ]
  },
  {
   "cell_type": "code",
   "execution_count": 196,
   "metadata": {},
   "outputs": [],
   "source": [
    "train_df = vectorizer.fit_transform(train_data.CLEAN_STORY).toarray()"
   ]
  },
  {
   "cell_type": "code",
   "execution_count": 197,
   "metadata": {},
   "outputs": [
    {
     "data": {
      "text/plain": [
       "array([[0., 0., 0., ..., 0., 0., 0.],\n",
       "       [0., 0., 0., ..., 0., 0., 0.],\n",
       "       [0., 0., 0., ..., 0., 0., 0.],\n",
       "       ...,\n",
       "       [0., 0., 0., ..., 0., 0., 0.],\n",
       "       [0., 0., 0., ..., 0., 0., 0.],\n",
       "       [0., 0., 0., ..., 0., 0., 0.]])"
      ]
     },
     "execution_count": 197,
     "metadata": {},
     "output_type": "execute_result"
    }
   ],
   "source": [
    "train_df"
   ]
  },
  {
   "cell_type": "code",
   "execution_count": 198,
   "metadata": {},
   "outputs": [],
   "source": [
    "test = test_data['CLEAN_STORY']"
   ]
  },
  {
   "cell_type": "code",
   "execution_count": 199,
   "metadata": {},
   "outputs": [],
   "source": [
    "test_df = vectorizer.fit_transform(test).toarray()"
   ]
  },
  {
   "cell_type": "code",
   "execution_count": 200,
   "metadata": {},
   "outputs": [
    {
     "data": {
      "text/plain": [
       "array([[0., 0., 0., ..., 0., 0., 0.],\n",
       "       [0., 0., 0., ..., 0., 0., 0.],\n",
       "       [0., 0., 0., ..., 0., 0., 0.],\n",
       "       ...,\n",
       "       [0., 0., 0., ..., 0., 0., 0.],\n",
       "       [0., 0., 0., ..., 0., 0., 0.],\n",
       "       [0., 0., 0., ..., 0., 0., 0.]])"
      ]
     },
     "execution_count": 200,
     "metadata": {},
     "output_type": "execute_result"
    }
   ],
   "source": [
    "test_df"
   ]
  },
  {
   "cell_type": "code",
   "execution_count": 201,
   "metadata": {},
   "outputs": [
    {
     "name": "stdout",
     "output_type": "stream",
     "text": [
      "(6048, 31561)\n"
     ]
    }
   ],
   "source": [
    "print(train.shape)"
   ]
  },
  {
   "cell_type": "code",
   "execution_count": 202,
   "metadata": {},
   "outputs": [
    {
     "name": "stdout",
     "output_type": "stream",
     "text": [
      "(1526,)\n"
     ]
    }
   ],
   "source": [
    "print(test.shape)"
   ]
  },
  {
   "cell_type": "markdown",
   "metadata": {},
   "source": [
    "# Train-Test-Split"
   ]
  },
  {
   "cell_type": "code",
   "execution_count": 203,
   "metadata": {},
   "outputs": [],
   "source": [
    "from sklearn.model_selection import train_test_split"
   ]
  },
  {
   "cell_type": "code",
   "execution_count": 204,
   "metadata": {},
   "outputs": [],
   "source": [
    "x = train_data['CLEAN_STORY']"
   ]
  },
  {
   "cell_type": "code",
   "execution_count": 205,
   "metadata": {},
   "outputs": [],
   "source": [
    "y = train_data['SECTION']"
   ]
  },
  {
   "cell_type": "code",
   "execution_count": 206,
   "metadata": {},
   "outputs": [],
   "source": [
    "x_train , x_test ,y_train , y_test = train_test_split(x, y ,test_size = 0.2 ,random_state = 0) "
   ]
  },
  {
   "cell_type": "code",
   "execution_count": 207,
   "metadata": {},
   "outputs": [
    {
     "data": {
      "text/plain": [
       "((4838,), (1210,))"
      ]
     },
     "execution_count": 207,
     "metadata": {},
     "output_type": "execute_result"
    }
   ],
   "source": [
    "x_train.shape ,x_test.shape"
   ]
  },
  {
   "cell_type": "code",
   "execution_count": 208,
   "metadata": {},
   "outputs": [
    {
     "data": {
      "text/plain": [
       "((4838,), (1210,))"
      ]
     },
     "execution_count": 208,
     "metadata": {},
     "output_type": "execute_result"
    }
   ],
   "source": [
    "y_train.shape , y_test.shape"
   ]
  },
  {
   "cell_type": "code",
   "execution_count": 209,
   "metadata": {},
   "outputs": [],
   "source": [
    "data = count_vectorizer.fit_transform(x_train)"
   ]
  },
  {
   "cell_type": "code",
   "execution_count": 210,
   "metadata": {},
   "outputs": [],
   "source": [
    "x_train_tfidf = tfidf_trans.fit_transform(data)"
   ]
  },
  {
   "cell_type": "markdown",
   "metadata": {},
   "source": [
    "# Model Building"
   ]
  },
  {
   "cell_type": "markdown",
   "metadata": {},
   "source": [
    "# 1. Logistic Regression "
   ]
  },
  {
   "cell_type": "code",
   "execution_count": 211,
   "metadata": {},
   "outputs": [],
   "source": [
    "from sklearn.linear_model import LogisticRegression"
   ]
  },
  {
   "cell_type": "code",
   "execution_count": 212,
   "metadata": {},
   "outputs": [],
   "source": [
    "log = LogisticRegression()"
   ]
  },
  {
   "cell_type": "code",
   "execution_count": 213,
   "metadata": {},
   "outputs": [
    {
     "data": {
      "text/plain": [
       "LogisticRegression(C=1.0, class_weight=None, dual=False, fit_intercept=True,\n",
       "          intercept_scaling=1, max_iter=100, multi_class='ovr', n_jobs=1,\n",
       "          penalty='l2', random_state=None, solver='liblinear', tol=0.0001,\n",
       "          verbose=0, warm_start=False)"
      ]
     },
     "execution_count": 213,
     "metadata": {},
     "output_type": "execute_result"
    }
   ],
   "source": [
    "log.fit(x_train_tfidf,y_train)"
   ]
  },
  {
   "cell_type": "code",
   "execution_count": 214,
   "metadata": {},
   "outputs": [],
   "source": [
    "x_test_tfidf =  count_vectorizer.transform(x_test)"
   ]
  },
  {
   "cell_type": "code",
   "execution_count": 215,
   "metadata": {},
   "outputs": [],
   "source": [
    "y_pred = log.predict(x_test_tfidf)"
   ]
  },
  {
   "cell_type": "code",
   "execution_count": 216,
   "metadata": {},
   "outputs": [
    {
     "data": {
      "text/plain": [
       "array([0, 0, 0, ..., 1, 1, 2], dtype=int64)"
      ]
     },
     "execution_count": 216,
     "metadata": {},
     "output_type": "execute_result"
    }
   ],
   "source": [
    "y_pred"
   ]
  },
  {
   "cell_type": "code",
   "execution_count": 217,
   "metadata": {},
   "outputs": [],
   "source": [
    "from sklearn.metrics import classification_report"
   ]
  },
  {
   "cell_type": "code",
   "execution_count": 218,
   "metadata": {},
   "outputs": [
    {
     "name": "stdout",
     "output_type": "stream",
     "text": [
      "             precision    recall  f1-score   support\n",
      "\n",
      "          0       0.90      0.97      0.94       261\n",
      "          1       0.92      0.98      0.95       456\n",
      "          2       0.99      0.83      0.91       290\n",
      "          3       0.97      0.96      0.97       203\n",
      "\n",
      "avg / total       0.94      0.94      0.94      1210\n",
      "\n"
     ]
    }
   ],
   "source": [
    "print(classification_report(y_test,y_pred))"
   ]
  },
  {
   "cell_type": "code",
   "execution_count": 256,
   "metadata": {},
   "outputs": [
    {
     "name": "stdout",
     "output_type": "stream",
     "text": [
      " Mean accuracy of the model is  94.45886509481576\n"
     ]
    }
   ],
   "source": [
    "from sklearn.model_selection import cross_val_score\n",
    "score = cross_val_score(log , x_test_tfidf ,y_pred , scoring = 'accuracy' , cv =9)\n",
    "print(\" Mean accuracy of the model is \" , np.mean(score)*100)"
   ]
  },
  {
   "cell_type": "code",
   "execution_count": 226,
   "metadata": {},
   "outputs": [],
   "source": [
    "from sklearn.metrics import confusion_matrix"
   ]
  },
  {
   "cell_type": "code",
   "execution_count": 227,
   "metadata": {},
   "outputs": [
    {
     "name": "stdout",
     "output_type": "stream",
     "text": [
      "[[253   6   1   1]\n",
      " [  5 447   1   3]\n",
      " [ 21  26 242   1]\n",
      " [  1   8   0 194]]\n"
     ]
    }
   ],
   "source": [
    "print(confusion_matrix(y_test,y_pred))"
   ]
  },
  {
   "cell_type": "markdown",
   "metadata": {},
   "source": [
    "### Checking the model for actual Test data"
   ]
  },
  {
   "cell_type": "code",
   "execution_count": 220,
   "metadata": {},
   "outputs": [],
   "source": [
    "test_final = count_vectorizer.transform(test)"
   ]
  },
  {
   "cell_type": "code",
   "execution_count": 221,
   "metadata": {},
   "outputs": [],
   "source": [
    "y_pred_final = log.predict(test_final)"
   ]
  },
  {
   "cell_type": "code",
   "execution_count": 222,
   "metadata": {},
   "outputs": [
    {
     "data": {
      "text/plain": [
       "array([0, 3, 1, ..., 1, 0, 2], dtype=int64)"
      ]
     },
     "execution_count": 222,
     "metadata": {},
     "output_type": "execute_result"
    }
   ],
   "source": [
    "y_pred_final"
   ]
  },
  {
   "cell_type": "code",
   "execution_count": 223,
   "metadata": {},
   "outputs": [],
   "source": [
    "sample_submission = pd.DataFrame({'SECTION':y_pred_final})"
   ]
  },
  {
   "cell_type": "code",
   "execution_count": 225,
   "metadata": {},
   "outputs": [],
   "source": [
    "sample_submission.to_csv('LogisticReg_Prediction.csv',index = False)"
   ]
  },
  {
   "cell_type": "markdown",
   "metadata": {},
   "source": [
    "# 2. DECISION TREE"
   ]
  },
  {
   "cell_type": "code",
   "execution_count": 230,
   "metadata": {},
   "outputs": [],
   "source": [
    "from sklearn.tree import DecisionTreeClassifier"
   ]
  },
  {
   "cell_type": "code",
   "execution_count": 231,
   "metadata": {},
   "outputs": [],
   "source": [
    "des = DecisionTreeClassifier()"
   ]
  },
  {
   "cell_type": "code",
   "execution_count": 233,
   "metadata": {},
   "outputs": [
    {
     "data": {
      "text/plain": [
       "DecisionTreeClassifier(class_weight=None, criterion='gini', max_depth=None,\n",
       "            max_features=None, max_leaf_nodes=None,\n",
       "            min_impurity_decrease=0.0, min_impurity_split=None,\n",
       "            min_samples_leaf=1, min_samples_split=2,\n",
       "            min_weight_fraction_leaf=0.0, presort=False, random_state=None,\n",
       "            splitter='best')"
      ]
     },
     "execution_count": 233,
     "metadata": {},
     "output_type": "execute_result"
    }
   ],
   "source": [
    "des.fit(x_train_tfidf, y_train)"
   ]
  },
  {
   "cell_type": "code",
   "execution_count": 234,
   "metadata": {},
   "outputs": [],
   "source": [
    "des_pred = des.predict(x_test_tfidf)"
   ]
  },
  {
   "cell_type": "code",
   "execution_count": 235,
   "metadata": {},
   "outputs": [
    {
     "data": {
      "text/plain": [
       "array([3, 3, 1, ..., 1, 1, 2], dtype=int64)"
      ]
     },
     "execution_count": 235,
     "metadata": {},
     "output_type": "execute_result"
    }
   ],
   "source": [
    "des_pred"
   ]
  },
  {
   "cell_type": "code",
   "execution_count": 236,
   "metadata": {},
   "outputs": [
    {
     "name": "stdout",
     "output_type": "stream",
     "text": [
      "             precision    recall  f1-score   support\n",
      "\n",
      "          0       0.82      0.72      0.77       261\n",
      "          1       0.80      0.78      0.79       456\n",
      "          2       0.83      0.85      0.84       290\n",
      "          3       0.62      0.73      0.67       203\n",
      "\n",
      "avg / total       0.78      0.78      0.78      1210\n",
      "\n"
     ]
    }
   ],
   "source": [
    "print(classification_report(y_test,des_pred))"
   ]
  },
  {
   "cell_type": "code",
   "execution_count": 272,
   "metadata": {},
   "outputs": [
    {
     "name": "stdout",
     "output_type": "stream",
     "text": [
      " Mean accuracy of the model is  81.08815153135258\n"
     ]
    }
   ],
   "source": [
    "from sklearn.model_selection import cross_val_score\n",
    "score = cross_val_score(des , x_test_tfidf ,des_pred , scoring = 'accuracy' , cv =9)\n",
    "print(\" Mean accuracy of the model is \" , np.mean(score)*100 )"
   ]
  },
  {
   "cell_type": "markdown",
   "metadata": {},
   "source": [
    "### It seems like, Decision tree gives less accuracy compared to the logistic regression so we won't consider this result. we will futher check the data with another models."
   ]
  },
  {
   "cell_type": "markdown",
   "metadata": {},
   "source": [
    "# 3. RANDOM FOREST"
   ]
  },
  {
   "cell_type": "code",
   "execution_count": 241,
   "metadata": {},
   "outputs": [],
   "source": [
    "from sklearn.ensemble import RandomForestClassifier"
   ]
  },
  {
   "cell_type": "code",
   "execution_count": 242,
   "metadata": {},
   "outputs": [],
   "source": [
    "ran = RandomForestClassifier(n_estimators=18)"
   ]
  },
  {
   "cell_type": "code",
   "execution_count": 243,
   "metadata": {},
   "outputs": [
    {
     "data": {
      "text/plain": [
       "RandomForestClassifier(bootstrap=True, class_weight=None, criterion='gini',\n",
       "            max_depth=None, max_features='auto', max_leaf_nodes=None,\n",
       "            min_impurity_decrease=0.0, min_impurity_split=None,\n",
       "            min_samples_leaf=1, min_samples_split=2,\n",
       "            min_weight_fraction_leaf=0.0, n_estimators=18, n_jobs=1,\n",
       "            oob_score=False, random_state=None, verbose=0,\n",
       "            warm_start=False)"
      ]
     },
     "execution_count": 243,
     "metadata": {},
     "output_type": "execute_result"
    }
   ],
   "source": [
    "ran.fit(x_train_tfidf, y_train)"
   ]
  },
  {
   "cell_type": "code",
   "execution_count": 245,
   "metadata": {},
   "outputs": [],
   "source": [
    "ran_pred = ran.predict(x_test_tfidf)"
   ]
  },
  {
   "cell_type": "code",
   "execution_count": 246,
   "metadata": {},
   "outputs": [
    {
     "data": {
      "text/plain": [
       "array([0, 0, 1, ..., 1, 1, 2], dtype=int64)"
      ]
     },
     "execution_count": 246,
     "metadata": {},
     "output_type": "execute_result"
    }
   ],
   "source": [
    "ran_pred"
   ]
  },
  {
   "cell_type": "code",
   "execution_count": 247,
   "metadata": {},
   "outputs": [
    {
     "name": "stdout",
     "output_type": "stream",
     "text": [
      "             precision    recall  f1-score   support\n",
      "\n",
      "          0       0.96      0.92      0.94       261\n",
      "          1       0.94      0.94      0.94       456\n",
      "          2       0.91      0.96      0.93       290\n",
      "          3       0.93      0.91      0.92       203\n",
      "\n",
      "avg / total       0.94      0.94      0.94      1210\n",
      "\n"
     ]
    }
   ],
   "source": [
    "print(classification_report(y_test,ran_pred))"
   ]
  },
  {
   "cell_type": "code",
   "execution_count": 273,
   "metadata": {},
   "outputs": [
    {
     "name": "stdout",
     "output_type": "stream",
     "text": [
      " Mean accuracy of the model is  89.2670211211663\n"
     ]
    }
   ],
   "source": [
    "from sklearn.model_selection import cross_val_score\n",
    "score = cross_val_score(ran , x_test_tfidf ,ran_pred , scoring = 'accuracy' , cv =9)\n",
    "print(\" Mean accuracy of the model is \" , np.mean(score)*100 )"
   ]
  },
  {
   "cell_type": "code",
   "execution_count": 249,
   "metadata": {},
   "outputs": [
    {
     "name": "stdout",
     "output_type": "stream",
     "text": [
      "[[239   8   8   6]\n",
      " [  4 430  15   7]\n",
      " [  3   8 279   0]\n",
      " [  3  10   6 184]]\n"
     ]
    }
   ],
   "source": [
    "print(confusion_matrix(y_test,ran_pred))"
   ]
  },
  {
   "cell_type": "markdown",
   "metadata": {},
   "source": [
    "### Checking the model for actual Test data"
   ]
  },
  {
   "cell_type": "code",
   "execution_count": 267,
   "metadata": {},
   "outputs": [],
   "source": [
    "ran_pred_final = ran.predict(test_final)"
   ]
  },
  {
   "cell_type": "code",
   "execution_count": 251,
   "metadata": {},
   "outputs": [
    {
     "data": {
      "text/plain": [
       "array([0, 3, 2, ..., 1, 0, 2], dtype=int64)"
      ]
     },
     "execution_count": 251,
     "metadata": {},
     "output_type": "execute_result"
    }
   ],
   "source": [
    "ran_pred_final"
   ]
  },
  {
   "cell_type": "code",
   "execution_count": 252,
   "metadata": {},
   "outputs": [],
   "source": [
    "sample_submission = pd.DataFrame({'SECTION':ran_pred_final})"
   ]
  },
  {
   "cell_type": "code",
   "execution_count": 253,
   "metadata": {},
   "outputs": [],
   "source": [
    "sample_submission.to_csv('RandomForest_Prediction.csv',index = False)"
   ]
  },
  {
   "cell_type": "markdown",
   "metadata": {},
   "source": [
    "# 4. SVM"
   ]
  },
  {
   "cell_type": "code",
   "execution_count": 259,
   "metadata": {},
   "outputs": [],
   "source": [
    "from sklearn.svm import LinearSVC"
   ]
  },
  {
   "cell_type": "code",
   "execution_count": 260,
   "metadata": {},
   "outputs": [],
   "source": [
    "svm = LinearSVC()"
   ]
  },
  {
   "cell_type": "code",
   "execution_count": 261,
   "metadata": {},
   "outputs": [
    {
     "data": {
      "text/plain": [
       "LinearSVC(C=1.0, class_weight=None, dual=True, fit_intercept=True,\n",
       "     intercept_scaling=1, loss='squared_hinge', max_iter=1000,\n",
       "     multi_class='ovr', penalty='l2', random_state=None, tol=0.0001,\n",
       "     verbose=0)"
      ]
     },
     "execution_count": 261,
     "metadata": {},
     "output_type": "execute_result"
    }
   ],
   "source": [
    "svm.fit(x_train_tfidf,y_train)"
   ]
  },
  {
   "cell_type": "code",
   "execution_count": 262,
   "metadata": {},
   "outputs": [],
   "source": [
    "svm_pred = svm.predict(x_test_tfidf)"
   ]
  },
  {
   "cell_type": "code",
   "execution_count": 263,
   "metadata": {},
   "outputs": [
    {
     "data": {
      "text/plain": [
       "array([0, 1, 0, ..., 1, 1, 2], dtype=int64)"
      ]
     },
     "execution_count": 263,
     "metadata": {},
     "output_type": "execute_result"
    }
   ],
   "source": [
    "svm_pred"
   ]
  },
  {
   "cell_type": "code",
   "execution_count": 264,
   "metadata": {},
   "outputs": [
    {
     "name": "stdout",
     "output_type": "stream",
     "text": [
      "             precision    recall  f1-score   support\n",
      "\n",
      "          0       0.92      0.97      0.94       261\n",
      "          1       0.95      0.99      0.97       456\n",
      "          2       0.99      0.88      0.93       290\n",
      "          3       0.98      0.98      0.98       203\n",
      "\n",
      "avg / total       0.96      0.96      0.95      1210\n",
      "\n"
     ]
    }
   ],
   "source": [
    "print(classification_report(y_test,svm_pred))"
   ]
  },
  {
   "cell_type": "code",
   "execution_count": 274,
   "metadata": {},
   "outputs": [
    {
     "name": "stdout",
     "output_type": "stream",
     "text": [
      " Mean accuracy of the model is  92.96973825267598\n"
     ]
    }
   ],
   "source": [
    "from sklearn.model_selection import cross_val_score\n",
    "score = cross_val_score(svm , x_test_tfidf ,svm_pred , scoring = 'accuracy' , cv =9)\n",
    "print(\" Mean accuracy of the model is \" , np.mean(score)*100 )"
   ]
  },
  {
   "cell_type": "code",
   "execution_count": 266,
   "metadata": {},
   "outputs": [
    {
     "name": "stdout",
     "output_type": "stream",
     "text": [
      "[[252   6   2   1]\n",
      " [  3 451   1   1]\n",
      " [ 18  16 254   2]\n",
      " [  0   4   0 199]]\n"
     ]
    }
   ],
   "source": [
    "print(confusion_matrix(y_test,svm_pred))"
   ]
  },
  {
   "cell_type": "markdown",
   "metadata": {},
   "source": [
    "### Checking the model for actual Test data"
   ]
  },
  {
   "cell_type": "code",
   "execution_count": 268,
   "metadata": {},
   "outputs": [],
   "source": [
    "svm_pred_final = svm.predict(test_final)"
   ]
  },
  {
   "cell_type": "code",
   "execution_count": 269,
   "metadata": {},
   "outputs": [
    {
     "data": {
      "text/plain": [
       "array([0, 3, 1, ..., 1, 0, 2], dtype=int64)"
      ]
     },
     "execution_count": 269,
     "metadata": {},
     "output_type": "execute_result"
    }
   ],
   "source": [
    "svm_pred_final"
   ]
  },
  {
   "cell_type": "code",
   "execution_count": 270,
   "metadata": {},
   "outputs": [],
   "source": [
    "sample_submission = pd.DataFrame({'SECTION':svm_pred_final})"
   ]
  },
  {
   "cell_type": "code",
   "execution_count": 271,
   "metadata": {},
   "outputs": [],
   "source": [
    "sample_submission.to_csv('SVM_Prediction.csv',index = False)"
   ]
  },
  {
   "cell_type": "code",
   "execution_count": null,
   "metadata": {},
   "outputs": [],
   "source": []
  },
  {
   "cell_type": "markdown",
   "metadata": {},
   "source": [
    "### As a result we can say, Logistic regression is performing very good. Accuracy is almost 94.50%. Then SVM and Random Forest are also working quite well."
   ]
  }
 ],
 "metadata": {
  "kernelspec": {
   "display_name": "Python 3",
   "language": "python",
   "name": "python3"
  },
  "language_info": {
   "codemirror_mode": {
    "name": "ipython",
    "version": 3
   },
   "file_extension": ".py",
   "mimetype": "text/x-python",
   "name": "python",
   "nbconvert_exporter": "python",
   "pygments_lexer": "ipython3",
   "version": "3.6.5"
  }
 },
 "nbformat": 4,
 "nbformat_minor": 2
}
